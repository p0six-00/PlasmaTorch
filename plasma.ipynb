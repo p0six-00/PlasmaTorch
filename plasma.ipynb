{
 "cells": [
  {
   "cell_type": "code",
   "execution_count": 12,
   "metadata": {},
   "outputs": [],
   "source": [
    "import torch\n",
    "import matplotlib.pyplot as plt"
   ]
  },
  {
   "cell_type": "code",
   "execution_count": 17,
   "metadata": {},
   "outputs": [
    {
     "ename": "AttributeError",
     "evalue": "module 'torch.random' has no attribute 'rand'",
     "output_type": "error",
     "traceback": [
      "\u001b[1;31m---------------------------------------------------------------------------\u001b[0m",
      "\u001b[1;31mAttributeError\u001b[0m                            Traceback (most recent call last)",
      "Cell \u001b[1;32mIn[17], line 13\u001b[0m\n\u001b[0;32m     10\u001b[0m m \u001b[38;5;241m=\u001b[39m \u001b[38;5;241m1\u001b[39m\n\u001b[0;32m     12\u001b[0m grid \u001b[38;5;241m=\u001b[39m torch\u001b[38;5;241m.\u001b[39mzeros((Nx, Ny, \u001b[38;5;241m2\u001b[39m))\n\u001b[1;32m---> 13\u001b[0m particles_position \u001b[38;5;241m=\u001b[39m \u001b[43mtorch\u001b[49m\u001b[38;5;241;43m.\u001b[39;49m\u001b[43mrandom\u001b[49m\u001b[38;5;241;43m.\u001b[39;49m\u001b[43mrand\u001b[49m((Nx, Ny))\n",
      "\u001b[1;31mAttributeError\u001b[0m: module 'torch.random' has no attribute 'rand'"
     ]
    }
   ],
   "source": [
    "num_particles = 1000\n",
    "Nx, Ny = 100, 100  # Numero di nodi in x e y\n",
    "Lx, Ly = 1.0, 1.0  # Dimensioni del dominio\n",
    "dx, dy = Lx / Nx, Ly / Ny  # Passo della griglia\n",
    "\n",
    "dt = 0.1\n",
    "simulation_time = 10\n",
    "\n",
    "q = 1\n",
    "m = 1\n",
    "\n",
    "grid = torch.zeros((Nx, Ny, 2))\n",
    "particles_position = torch.random.rand((Nx, Ny))"
   ]
  },
  {
   "cell_type": "code",
   "execution_count": null,
   "metadata": {},
   "outputs": [],
   "source": [
    "def update(positions, velocities):\n",
    "    density = charge_density(positions)\n",
    "    E = electric_field(density)\n",
    "    forces = q * E\n",
    "    velocities += forces * dt / m\n",
    "    positions += velocities * dt\n",
    "    return positions, velocities"
   ]
  },
  {
   "cell_type": "code",
   "execution_count": null,
   "metadata": {},
   "outputs": [],
   "source": [
    "steps = int(simulation_time / dt)\n",
    "\n",
    "for step in range(steps):\n",
    "    "
   ]
  },
  {
   "cell_type": "code",
   "execution_count": 15,
   "metadata": {},
   "outputs": [
    {
     "data": {
      "image/png": "[encoded data removed]",
      "text/plain": [
       "<Figure size 640x480 with 2 Axes>"
      ]
     },
     "metadata": {},
     "output_type": "display_data"
    }
   ],
   "source": [
    "plt.imshow(grid.cpu().numpy()[:, :, 0])\n",
    "plt.colorbar()\n",
    "plt.show()"
   ]
  },
  {
   "cell_type": "code",
   "execution_count": null,
   "metadata": {},
   "outputs": [],
   "source": []
  },
  {
   "cell_type": "code",
   "execution_count": null,
   "metadata": {},
   "outputs": [],
   "source": []
  },
  {
   "cell_type": "code",
   "execution_count": null,
   "metadata": {},
   "outputs": [],
   "source": []
  },
  {
   "cell_type": "code",
   "execution_count": 3,
   "metadata": {},
   "outputs": [
    {
     "ename": "ConcretizationTypeError",
     "evalue": "Abstract tracer value encountered where concrete value is expected: traced array with shape float32[]\nThe problem arose with the `int` function. If trying to convert the data type of a value, try using `x.astype(int)` or `jnp.array(x, int)` instead.\nThe error occurred while tracing the function update at C:\\Users\\marco\\AppData\\Local\\Temp\\ipykernel_22056\\1837307328.py:32 for jit. This concrete value was not available in Python because it depends on the value of the argument positions.\n\nSee https://jax.readthedocs.io/en/latest/errors.html#jax.errors.ConcretizationTypeError",
     "output_type": "error",
     "traceback": [
      "\u001b[1;31m---------------------------------------------------------------------------\u001b[0m",
      "\u001b[1;31mConcretizationTypeError\u001b[0m                   Traceback (most recent call last)",
      "Cell \u001b[1;32mIn[3], line 43\u001b[0m\n\u001b[0;32m     41\u001b[0m \u001b[38;5;66;03m# Simulazione\u001b[39;00m\n\u001b[0;32m     42\u001b[0m \u001b[38;5;28;01mfor\u001b[39;00m step \u001b[38;5;129;01min\u001b[39;00m \u001b[38;5;28mrange\u001b[39m(\u001b[38;5;241m100\u001b[39m):\n\u001b[1;32m---> 43\u001b[0m     positions, velocities \u001b[38;5;241m=\u001b[39m \u001b[43mupdate\u001b[49m\u001b[43m(\u001b[49m\u001b[43mpositions\u001b[49m\u001b[43m,\u001b[49m\u001b[43m \u001b[49m\u001b[43mvelocities\u001b[49m\u001b[43m)\u001b[49m\n\u001b[0;32m     45\u001b[0m \u001b[38;5;28mprint\u001b[39m(\u001b[38;5;124m\"\u001b[39m\u001b[38;5;124mFinal positions:\u001b[39m\u001b[38;5;124m\"\u001b[39m, positions)\n",
      "    \u001b[1;31m[... skipping hidden 13 frame]\u001b[0m\n",
      "Cell \u001b[1;32mIn[3], line 34\u001b[0m, in \u001b[0;36mupdate\u001b[1;34m(positions, velocities)\u001b[0m\n\u001b[0;32m     32\u001b[0m \u001b[38;5;129m@jit\u001b[39m\n\u001b[0;32m     33\u001b[0m \u001b[38;5;28;01mdef\u001b[39;00m \u001b[38;5;21mupdate\u001b[39m(positions, velocities):\n\u001b[1;32m---> 34\u001b[0m     density \u001b[38;5;241m=\u001b[39m \u001b[43mcharge_density\u001b[49m\u001b[43m(\u001b[49m\u001b[43mpositions\u001b[49m\u001b[43m)\u001b[49m\n\u001b[0;32m     35\u001b[0m     E \u001b[38;5;241m=\u001b[39m electric_field(density)\n\u001b[0;32m     36\u001b[0m     forces \u001b[38;5;241m=\u001b[39m q \u001b[38;5;241m*\u001b[39m E\n",
      "Cell \u001b[1;32mIn[3], line 21\u001b[0m, in \u001b[0;36mcharge_density\u001b[1;34m(positions)\u001b[0m\n\u001b[0;32m     19\u001b[0m grid \u001b[38;5;241m=\u001b[39m jnp\u001b[38;5;241m.\u001b[39mzeros(num_grid_points)\n\u001b[0;32m     20\u001b[0m \u001b[38;5;28;01mfor\u001b[39;00m p \u001b[38;5;129;01min\u001b[39;00m positions:\n\u001b[1;32m---> 21\u001b[0m     idx \u001b[38;5;241m=\u001b[39m \u001b[38;5;28;43mint\u001b[39;49m\u001b[43m(\u001b[49m\u001b[43mp\u001b[49m\u001b[43m \u001b[49m\u001b[38;5;241;43m/\u001b[39;49m\u001b[38;5;241;43m/\u001b[39;49m\u001b[43m \u001b[49m\u001b[43mdx\u001b[49m\u001b[43m)\u001b[49m\n\u001b[0;32m     22\u001b[0m     grid \u001b[38;5;241m=\u001b[39m grid\u001b[38;5;241m.\u001b[39mat[idx \u001b[38;5;241m%\u001b[39m num_grid_points]\u001b[38;5;241m.\u001b[39madd(q)\n\u001b[0;32m     23\u001b[0m \u001b[38;5;28;01mreturn\u001b[39;00m grid \u001b[38;5;241m/\u001b[39m dx\n",
      "    \u001b[1;31m[... skipping hidden 1 frame]\u001b[0m\n",
      "File \u001b[1;32mc:\\Users\\marco\\anaconda3\\envs\\PlasmaTorch\\Lib\\site-packages\\jax\\_src\\core.py:1470\u001b[0m, in \u001b[0;36mconcretization_function_error.<locals>.error\u001b[1;34m(self, arg)\u001b[0m\n\u001b[0;32m   1469\u001b[0m \u001b[38;5;28;01mdef\u001b[39;00m \u001b[38;5;21merror\u001b[39m(\u001b[38;5;28mself\u001b[39m, arg):\n\u001b[1;32m-> 1470\u001b[0m   \u001b[38;5;28;01mraise\u001b[39;00m ConcretizationTypeError(arg, fname_context)\n",
      "\u001b[1;31mConcretizationTypeError\u001b[0m: Abstract tracer value encountered where concrete value is expected: traced array with shape float32[]\nThe problem arose with the `int` function. If trying to convert the data type of a value, try using `x.astype(int)` or `jnp.array(x, int)` instead.\nThe error occurred while tracing the function update at C:\\Users\\marco\\AppData\\Local\\Temp\\ipykernel_22056\\1837307328.py:32 for jit. This concrete value was not available in Python because it depends on the value of the argument positions.\n\nSee https://jax.readthedocs.io/en/latest/errors.html#jax.errors.ConcretizationTypeError"
     ]
    }
   ],
   "source": [
    "import jax\n",
    "import jax.numpy as jnp\n",
    "from jax import grad, jit, vmap\n",
    "\n",
    "# Parametri\n",
    "num_particles = 1000\n",
    "num_grid_points = 100\n",
    "dx = 1.0\n",
    "dt = 0.01\n",
    "q = 1.0  # Carica\n",
    "m = 1.0  # Massa\n",
    "\n",
    "# Inizializzazione particelle\n",
    "positions = jnp.linspace(0, dx * num_grid_points, num_particles)\n",
    "velocities = jnp.zeros_like(positions)\n",
    "\n",
    "# Densità su griglia\n",
    "def charge_density(positions):\n",
    "    grid = jnp.zeros(num_grid_points)\n",
    "    for p in positions:\n",
    "        idx = int(p // dx)\n",
    "        grid = grid.at[idx % num_grid_points].add(q)\n",
    "    return grid / dx\n",
    "\n",
    "# Campo elettrico da equazione di Poisson\n",
    "def electric_field(density):\n",
    "    # Solve Poisson: dE/dx = rho/epsilon_0\n",
    "    E = jnp.cumsum(density) * dx\n",
    "    return E\n",
    "\n",
    "# Evoluzione temporale\n",
    "@jit\n",
    "def update(positions, velocities):\n",
    "    density = charge_density(positions)\n",
    "    E = electric_field(density)\n",
    "    forces = q * E\n",
    "    velocities += forces * dt / m\n",
    "    positions += velocities * dt\n",
    "    return positions, velocities\n",
    "\n",
    "# Simulazione\n",
    "for step in range(100):\n",
    "    positions, velocities = update(positions, velocities)\n",
    "\n",
    "print(\"Final positions:\", positions)\n"
   ]
  },
  {
   "cell_type": "code",
   "execution_count": null,
   "metadata": {},
   "outputs": [],
   "source": []
  }
 ],
 "metadata": {
  "kernelspec": {
   "display_name": "PlasmaTorch",
   "language": "python",
   "name": "python3"
  },
  "language_info": {
   "codemirror_mode": {
    "name": "ipython",
    "version": 3
   },
   "file_extension": ".py",
   "mimetype": "text/x-python",
   "name": "python",
   "nbconvert_exporter": "python",
   "pygments_lexer": "ipython3",
   "version": "3.12.8"
  }
 },
 "nbformat": 4,
 "nbformat_minor": 2
}
