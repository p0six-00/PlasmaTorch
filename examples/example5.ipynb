{
  "nbformat": 4,
  "nbformat_minor": 2,
  "metadata": {
    "kernelspec": {
      "display_name": "plasmaTorch",
      "language": "python",
      "name": "python3"
    },
    "language_info": {
      "codemirror_mode": {
        "name": "ipython",
        "version": 3
      },
      "file_extension": ".py",
      "mimetype": "text/x-python",
      "name": "python",
      "nbconvert_exporter": "python",
      "pygments_lexer": "ipython3",
      "version": "3.12.8"
    }
  },
  "cells": [
    {
      "cell_type": "markdown",
      "metadata": {},
      "source": [
        "# Two-Stream Instability with PlasmaTorch\n",
        "\n",
        "## Introduction\n",
        "In this tutorial, we demonstrate how **PlasmaTorch** can simulate a classical **two-stream instability**. We initialize two counter-streaming electron beams in a periodic domain, with a stationary (or effectively fixed) ion background. The relative motion of the two beams sets up electric fields that can grow exponentially due to the **two-stream instability**.\n",
        "\n",
        "### Physical Background\n",
        "In the **two-stream instability**, two populations of electrons with different drift velocities interact via electrostatic perturbations. In the simplest 1D analysis, the dispersion relation of electrostatic waves can exhibit modes with exponential growth. If the relative drift between the beams is high enough, small fluctuations in density and electric field are amplified, leading to a rapid energy exchange.\n",
        "\n",
        "In more detail, for electrons of equal density $n_0$, masses $m$, charges $-e$ (in standard SI units), and drift velocities $\\pm v_0$, the condition for instability typically emerges around wave numbers satisfying:\n",
        "$$ k v_0 \\approx \\omega_{pe}, $$\n",
        "where $$ \\omega_{pe} = \\sqrt{\\frac{n_0 \\, e^2}{\\varepsilon_0 \\, m}}. $$ is the electron plasma frequency.\n",
        "\n",
        "In this tutorial, we use a 2D domain with periodic boundary conditions, create a large number of electrons in two beams with equal and opposite velocities, and add a set of ions to act as a neutralizing background. We then observe how the system evolves, with the possibility of seeing kinetic energy transferred into electric-field fluctuations characteristic of the two-stream instability."
      ]
    },
    {
      "cell_type": "markdown",
      "metadata": {},
      "source": [
        "## Cell 1: Imports and Setup\n",
        "We:\n",
        "- Reload modules with `%autoreload`.\n",
        "- Import standard libraries like **torch**, **numpy**, **matplotlib**, and **tqdm**.\n",
        "- Import **PlasmaTorch** modules.\n",
        "- Set the device (`cuda` if available, otherwise `cpu`).\n",
        "- Initialize the random seed for reproducibility."
      ]
    },
    {
      "cell_type": "code",
      "metadata": {},
      "execution_count": null,
      "outputs": [],
      "source": [
        "%load_ext autoreload\n",
        "%autoreload 2\n",
        "\n",
        "import torch\n",
        "import matplotlib.pyplot as plt\n",
        "import numpy as np\n",
        "from tqdm import tqdm\n",
        "import torch.autograd.profiler as profiler\n",
        "from scipy.constants import *\n",
        "import sys\n",
        "sys.path.append(\"../\")\n",
        "sys.path.append(\"../plasmatorch\")\n",
        "\n",
        "from plasmatorch.simulator import *\n",
        "from plasmatorch.utils import *\n",
        "from plasmatorch.deposition import *\n",
        "from plasmatorch.fields import *\n",
        "from plasmatorch.helper import *\n",
        "\n",
        "device = \"cuda\" if torch.cuda.is_available() else \"cpu\"\n",
        "set_seed(2304)"
      ]
    },
    {
      "cell_type": "markdown",
      "metadata": {},
      "source": [
        "## Cell 2: Defining the Simulation Parameters\n",
        "Here, we:\n",
        "- Create a 2D domain of size $L_x = L_y = 1.0$ with a $64 \\times 64$ grid.\n",
        "- Use a time step of $10^{-6}$ and run up to $t = 10^{-3}$.\n",
        "- Name the simulation `\"test\"`.\n",
        "- Use periodic boundary conditions.\n",
        "- Choose to save the simulation data at every time step (`save_frequency=1`).\n",
        "- Use **Gauss-Seidel** for solving the Poisson equation.\n",
        "\n",
        "Then we set up a quasi-neutral background with ions (with large mass, or equivalently, you could treat them as stationary), and create **two** electron beams with opposite velocities in the $x$-direction."
      ]
    },
    {
      "cell_type": "code",
      "metadata": {},
      "execution_count": null,
      "outputs": [],
      "source": [
        "Lx, Ly = 1.0, 1.0\n",
        "Nx, Ny = 64, 64\n",
        "dt = 1e-6\n",
        "simulation_time = 1e-3\n",
        "simulation_name = \"test\"\n",
        "backend = \"cpu\"\n",
        "\n",
        "sim = PlasmaTorch(\n",
        "    simulation_name=simulation_name,\n",
        "    Lx=Lx,\n",
        "    Ly=Ly,\n",
        "    Nx=Nx,\n",
        "    Ny=Ny,\n",
        "    simulation_time=simulation_time,\n",
        "    dt=dt,\n",
        "    boundaries_type=\"periodic\",\n",
        "    save_frequency=1,\n",
        "    backend= backend,\n",
        ")\n",
        "\n",
        "sim.poisson_method = \"gauss_seidel\"\n",
        "\n",
        "# Create ions as a stationary or massive background\n",
        "# We choose 5000 ions with zero initial velocity and large mass\n",
        "num_ioni = 5000\n",
        "sim.create_new_specie(\n",
        "    name=\"ioni\",\n",
        "    num_particles=num_ioni,\n",
        "    temperature=0.0,\n",
        "    distribution=\"zero\",\n",
        "    mass=1836.0,  # large mass to mimic protons\n",
        "    charge=1.0,\n",
        "    disposition=\"random\"\n",
        ")\n",
        "\n",
        "# Create two beams of electrons\n",
        "num_elettroni = 5000\n",
        "\n",
        "# Beam 1 with +vx\n",
        "sim.create_new_specie(\n",
        "    name=\"electrons_beam1\",\n",
        "    num_particles=num_elettroni,\n",
        "    temperature=0.0,\n",
        "    distribution=\"zero\",\n",
        "    mass=1.0,\n",
        "    charge=-1.0,\n",
        "    disposition=\"random\"\n",
        ")\n",
        "# Assign a positive velocity in x\n",
        "is_beam1 = (sim.particles_specie == sim.name_register.tolist().index(\"electrons_beam1\"))\n",
        "sim.particles_velocity[is_beam1, 0] = 0.2  # velocity in +x\n",
        "\n",
        "# Beam 2 with -vx\n",
        "sim.create_new_specie(\n",
        "    name=\"electrons_beam2\",\n",
        "    num_particles=num_elettroni,\n",
        "    temperature=0.0,\n",
        "    distribution=\"zero\",\n",
        "    mass=1.0,\n",
        "    charge=-1.0,\n",
        "    disposition=\"random\"\n",
        ")\n",
        "# Assign a negative velocity in x\n",
        "is_beam2 = (sim.particles_specie == sim.name_register.tolist().index(\"electrons_beam2\"))\n",
        "sim.particles_velocity[is_beam2, 0] = -0.2  # velocity in -x\n",
        "\n",
        "# Run the simulation\n",
        "sim.simulate()"
      ]
    },
    {
      "cell_type": "markdown",
      "metadata": {},
      "source": [
        "## Cell 3: Loading the Simulation\n",
        "If we saved the simulation data, we can now load it for post-processing, analysis, or further diagnostics without needing to re-run the simulation."
      ]
    },
    {
      "cell_type": "code",
      "metadata": {},
      "execution_count": null,
      "outputs": [],
      "source": [
        "simulation = load_simulation(simulation_name, device= backend)"
      ]
    },
    {
      "cell_type": "markdown",
      "metadata": {},
      "source": [
        "## Cell 4: Interactive Visualization\n",
        "By using `%matplotlib widget` and the **`dynamic_slider`** function, we can step through the simulation time steps to see how the beams evolve and potentially create oscillations or filamentation that are characteristic of the two-stream instability.\n",
        "In 2D, you might see structures forming in the $x$-$y$ plane as the two beams interact."
      ]
    },
    {
      "cell_type": "code",
      "metadata": {},
      "execution_count": null,
      "outputs": [],
      "source": [
        "%matplotlib widget\n",
        "\n",
        "dynamic_slider(simulation, Lx, Ly)"
      ]
    },
    {
      "cell_type": "markdown",
      "metadata": {},
      "source": [
        "## Cell 5: Energy Analysis\n",
        "Let's look at the evolution of kinetic, potential, and total mechanical energy over the time steps. One hallmark of the two-stream instability is that electrostatic energy can grow at the expense of the beams' kinetic energy.\n"
      ]
    },
    {
      "cell_type": "code",
      "metadata": {},
      "execution_count": null,
      "outputs": [],
      "source": [
        "plt.close()\n",
        "plt.figure()\n",
        "plt.plot(simulation['kinetic_energy_chronology'], label=\"Kinetic Energy\")\n",
        "plt.plot(simulation['potential_energy_chronology'], label=\"Potential Energy\")\n",
        "plt.plot(simulation['mechanic_energy_chronology'], label=\"Mechanical Energy\")\n",
        "plt.legend()\n",
        "plt.show()"
      ]
    },
    {
      "cell_type": "markdown",
      "metadata": {},
      "source": [
        "## Conclusion\n",
        "In this tutorial, we set up two counter-streaming electron beams in a periodic 2D domain with ions acting as a neutralizing background. **PlasmaTorch** handles the self-consistent electric field solution, allowing us to observe whether an instability develops. In classical plasma theory, this configuration is subject to the **two-stream (two-flow) instability**, which can lead to the exponential growth of electric field modes that couple to the beams. By examining the particle distribution and field energy over time, one can verify the onset and evolution of this well-known plasma instability."
      ]
    }
  ]
}
